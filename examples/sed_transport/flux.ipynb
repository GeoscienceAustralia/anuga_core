{
 "cells": [
  {
   "cell_type": "code",
   "execution_count": 2,
   "metadata": {
    "collapsed": true
   },
   "outputs": [],
   "source": [
    "from matplotlib import pyplot as plt\n",
    "%matplotlib inline\n",
    "from anuga.utilities import plot_utils as util\n",
    "import numpy as np\n",
    "\n",
    "\n",
    "swwFile = 'new_domain_test2.sww'\n",
    "\n",
    "from anuga.file.netcdf import NetCDFFile\n",
    "\n",
    "# Open ncdf connection\n",
    "fid=NetCDFFile(swwFile)\n",
    "\n",
    "# Get concentration\n",
    "if(fid.variables.has_key('concentration')):\n",
    "    conc = fid.variables['concentration'][-1]\n",
    "    \n",
    "elev = fid.variables['elevation'][-1]\n",
    "stage = fid.variables['stage'][-1]\n",
    "xmom = fid.variables['xmomentum'][-1]\n",
    "ymom = fid.variables['ymomentum'][-1]\n",
    "\n",
    "\n",
    "fid.close()\n"
   ]
  },
  {
   "cell_type": "code",
   "execution_count": 6,
   "metadata": {
    "collapsed": false
   },
   "outputs": [],
   "source": [
    "a = np.zeros((3,2))\n",
    "a[0,1:] = -6.\n",
    "a[1,0] = -1"
   ]
  },
  {
   "cell_type": "code",
   "execution_count": 7,
   "metadata": {
    "collapsed": false
   },
   "outputs": [
    {
     "data": {
      "text/plain": [
       "array([[ 0., -6.],\n",
       "       [-1.,  0.],\n",
       "       [ 0.,  0.]])"
      ]
     },
     "execution_count": 7,
     "metadata": {},
     "output_type": "execute_result"
    }
   ],
   "source": [
    "a"
   ]
  },
  {
   "cell_type": "code",
   "execution_count": 9,
   "metadata": {
    "collapsed": false
   },
   "outputs": [
    {
     "data": {
      "text/plain": [
       "array([[ 1.,  2.],\n",
       "       [ 2.,  1.],\n",
       "       [ 1.,  1.]])"
      ]
     },
     "execution_count": 9,
     "metadata": {},
     "output_type": "execute_result"
    }
   ],
   "source": [
    "np.where(a<0,2,a+1)"
   ]
  },
  {
   "cell_type": "code",
   "execution_count": null,
   "metadata": {
    "collapsed": true
   },
   "outputs": [],
   "source": []
  }
 ],
 "metadata": {
  "kernelspec": {
   "display_name": "Python 2",
   "language": "python",
   "name": "python2"
  },
  "language_info": {
   "codemirror_mode": {
    "name": "ipython",
    "version": 2
   },
   "file_extension": ".py",
   "mimetype": "text/x-python",
   "name": "python",
   "nbconvert_exporter": "python",
   "pygments_lexer": "ipython2",
   "version": "2.7.10"
  }
 },
 "nbformat": 4,
 "nbformat_minor": 0
}
