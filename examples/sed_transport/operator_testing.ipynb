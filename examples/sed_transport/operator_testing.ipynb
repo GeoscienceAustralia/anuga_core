{
 "cells": [
  {
   "cell_type": "code",
   "execution_count": 1,
   "metadata": {
    "collapsed": false
   },
   "outputs": [],
   "source": [
    "\"\"\"Simple water flow example using ANUGA\n",
    "\n",
    "Water flowing down a channel with a topography that varies with time\n",
    "\"\"\"\n",
    "\n",
    "#------------------------------------------------------------------------------\n",
    "# Import necessary modules\n",
    "#------------------------------------------------------------------------------\n",
    "from anuga import rectangular_cross\n",
    "from anuga import Domain\n",
    "from anuga import Reflective_boundary\n",
    "from anuga import Dirichlet_boundary\n",
    "from anuga import Time_boundary\n",
    "\n",
    "import numpy as num\n",
    "\n",
    "#===============================================================================\n",
    "# Setup Functions\n",
    "#===============================================================================\n",
    "\n",
    "\n",
    "#------------------------------------------------------------------------------\n",
    "# Setup initial conditions\n",
    "#------------------------------------------------------------------------------\n",
    "def topography(x,y):\n",
    "    print ' Create topography....'\n",
    "    z = -x/100\n",
    "\n",
    "            \n",
    "    return z\n",
    "\n",
    "\n",
    "\n",
    "#===============================================================================\n",
    "# Setup and Run Model\n",
    "#===============================================================================\n",
    "\n",
    "\n",
    "#------------------------------------------------------------------------------\n",
    "# Setup computational domain\n",
    "#------------------------------------------------------------------------------\n",
    "print ' Set up Domain first...'\n",
    "length = 5.\n",
    "width = 3.\n",
    "dx = dy = 0.2 #.1           # Resolution: Length of subdivisions on both axes\n",
    "\n",
    "points, vertices, boundary = rectangular_cross(int(length/dx), int(width/dy),\n",
    "                                               len1=length, len2=width)\n",
    "\n",
    "evolved_quantities = ['stage', 'xmomentum', 'ymomentum', 'elevation', 'concentration']\n",
    "                                               \n",
    "domain = Domain(points, vertices, boundary, evolved_quantities=evolved_quantities)\n",
    "domain.set_flow_algorithm('DE0')\n",
    "domain.set_name('new_domain_test') # Output name\n",
    "domain.set_store_vertices_uniquely(True)\n",
    "\n",
    "print domain.statistics()\n",
    "\n",
    "domain.set_quantities_to_be_stored({'elevation': 2,\n",
    "                                    'stage': 2,\n",
    "                                    'xmomentum': 2,\n",
    "                                    'ymomentum': 2,\n",
    "                                    'concentration': 2})\n",
    "\n",
    "domain.set_quantity('concentration', 0.01)\n",
    "domain.set_quantity('elevation', topography)           # elevation is a function\n",
    "domain.set_quantity('friction', 0.01)                  # Constant friction\n",
    "domain.set_quantity('stage', expression='elevation')   # Dry initial condition\n",
    "\n",
    "#------------------------------------------------------------------------------\n",
    "# Setup boundary conditions\n",
    "#------------------------------------------------------------------------------\n",
    "Bi = Dirichlet_boundary([1.5, 0, 0])          # Inflow\n",
    "Br = Reflective_boundary(domain)              # Solid reflective wall\n",
    "Bo = Dirichlet_boundary([-5, 0, 0])           # Outflow\n",
    "\n",
    "domain.set_boundary({'left': Bi, 'right': Bo, 'top': Br, 'bottom': Br})\n",
    "\n",
    "#------------------------------------------------------------------------------\n",
    "# Setup erosion operator in the middle of dam\n",
    "#------------------------------------------------------------------------------\n",
    "print 'Set up Erosion Area to test...'\n",
    "\n",
    "from anuga.operators.sed_transport_operator import Sed_transport_operator\n",
    "\n",
    "# create operator\n",
    "op1 = Sed_transport_operator(domain)"
   ]
  },
  {
   "cell_type": "code",
   "execution_count": 3,
   "metadata": {
    "collapsed": false
   },
   "outputs": [],
   "source": [
    "for t in domain.evolve(yieldstep=1., finaltime=15.0):\n",
    "    domain.print_timestepping_statistics()"
   ]
  },
  {
   "cell_type": "code",
   "execution_count": null,
   "metadata": {
    "collapsed": false
   },
   "outputs": [],
   "source": [
    "max(domain.quantities['concentration'].centroid_values)"
   ]
  },
  {
   "cell_type": "code",
   "execution_count": null,
   "metadata": {
    "collapsed": true
   },
   "outputs": [],
   "source": []
  }
 ],
 "metadata": {
  "kernelspec": {
   "display_name": "Python 2",
   "language": "python",
   "name": "python2"
  },
  "language_info": {
   "codemirror_mode": {
    "name": "ipython",
    "version": 2
   },
   "file_extension": ".py",
   "mimetype": "text/x-python",
   "name": "python",
   "nbconvert_exporter": "python",
   "pygments_lexer": "ipython2",
   "version": "2.7.10"
  }
 },
 "nbformat": 4,
 "nbformat_minor": 0
}
