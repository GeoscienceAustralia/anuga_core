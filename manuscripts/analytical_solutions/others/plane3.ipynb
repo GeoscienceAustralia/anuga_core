{
 "cells": [
  {
   "cell_type": "code",
   "execution_count": 272,
   "metadata": {
    "collapsed": false
   },
   "outputs": [
    {
     "name": "stdout",
     "output_type": "stream",
     "text": [
      "done\n"
     ]
    }
   ],
   "source": [
    "import sys\n",
    "oldsysstdout = sys.stdout\n",
    "\n",
    "from matplotlib import pyplot as plt\n",
    "%matplotlib inline\n",
    "from anuga.file import netcdf\n",
    "import matplotlib.tri as tri\n",
    "import scipy.interpolate as sp\n",
    "from glob import glob\n",
    "import numpy as np\n",
    "\n",
    "sys.stdout = oldsysstdout\n",
    "from scipy.signal import savgol_filter as filter\n",
    "\n",
    "\n",
    "\n",
    "swwFile = 'plane3.sww'\n",
    "\n",
    "\n",
    "\n",
    "fid = netcdf.NetCDFFile(swwFile)\n",
    "x = fid.variables['x'][:]\n",
    "y = fid.variables['y'][:]\n",
    "elev = fid.variables['elevation'][:]\n",
    "stage = fid.variables['stage'][:]\n",
    "conc = fid.variables['concentration'][:]\n",
    "\n",
    "depth = stage - elev\n",
    "\n",
    "xmom = fid.variables['xmomentum'][:]\n",
    "xvel = xmom / (depth + 0.000001)\n",
    "\n",
    "fid.close()\n",
    "\n",
    "\n",
    "y2 = (2<y)\n",
    "y8 = y < 8\n",
    "indices = y2 * y9\n",
    "\n",
    "        \n",
    "triang = tri.Triangulation(x,y)\n",
    "\n",
    "        \n",
    "# variables        \n",
    "g = 9.8\n",
    "rho_w = 1000.\n",
    "tau_c = 0.126126\n",
    "phi = 0.3\n",
    "vs = 0.0138099680617\n",
    "\n",
    "Co = 0.005       \n",
    "Ke = 0.2e-6/(tau_c**0.5)\n",
    "\n",
    "# d_star\n",
    "filenames = glob('dstar/dstar*')\n",
    "\n",
    "ds = np.load(filenames[0])\n",
    "xx = np.linspace(0.5,14,45)\n",
    "\n",
    "numbers = []\n",
    "for f in filenames[1:]:\n",
    "    a = f.replace('dstar/dstar','')\n",
    "    b = a.replace('.0.npy','')\n",
    "    numbers.append(int(b))\n",
    "    \n",
    "d_star = np.zeros((len(numbers),len(xx)))\n",
    "\n",
    "\n",
    "fl = sp.interp1d(x[indices], elev[0][indices], kind='linear')\n",
    "Dxo = filter(fl(xx), 7, 3)\n",
    "\n",
    "for i in range(1,len(filenames)):\n",
    "\n",
    "    ds = np.load(filenames[i])\n",
    "    fl = sp.interp1d(ds[0], ds[1], kind='linear')\n",
    "    d_star[i-1] = filter(fl(xx), 7, 3)\n",
    "    \n",
    "\n",
    "Cx = np.zeros((len(numbers),len(xx)))\n",
    "Dx = np.zeros((len(numbers),len(xx)))\n",
    "\n",
    "\n",
    "for i in numbers:\n",
    "    \n",
    "    Co = conc[i][x < 1].max()\n",
    "    \n",
    "    j = i - 2\n",
    "\n",
    "    d_star_u = d_star[j]\n",
    "    \n",
    "    fl = sp.interp1d(x[indices], depth[i][indices], kind='linear')\n",
    "    dxx = filter(fl(xx), 7, 3)\n",
    "    \n",
    "    fl = sp.interp1d(x[indices], xmom[i][indices], kind='linear')\n",
    "    qxx = filter(fl(xx), 7, 3)\n",
    "    \n",
    "    \n",
    "    S = (-np.diff(elev[i][y == 5])/np.diff(x[y ==5]))\n",
    "    S_ = np.hstack((S,S[-1]))\n",
    "\n",
    "    fl = sp.interp1d(x[y ==5], S_, kind='linear')\n",
    "    slope = filter(fl(xx), 7, 3)\n",
    "    \n",
    "\n",
    "    u_star = np.sqrt(g * slope * dxx)\n",
    "    tau = rho_w * u_star**2\n",
    "    dot_E = Ke * (tau - tau_c)\n",
    "\n",
    "    Exx = dot_E\n",
    "\n",
    "    \n",
    "\n",
    "    Cx[j] = (Co - Exx/(d_star_u * vs)) * np.exp(- d_star_u * vs * xx / qxx) + Exx/(d_star_u * vs)    \n",
    " \n",
    "    Dx[j] = i / (1 - phi) * (d_star_u * vs * Co - Exx) * np.exp(- d_star_u * vs * xx / qxx) + Dxo\n",
    "\n",
    "\n",
    "# check data\n",
    "\n",
    "Cx_m = np.zeros((len(numbers),len(xx)))\n",
    "Dx_m = np.zeros((len(numbers),len(xx)))\n",
    "\n",
    "for i in numbers:\n",
    "    \n",
    "    j = i - 2\n",
    "    \n",
    "    fl = sp.interp1d(x[indices], elev[i][indices], kind='linear')\n",
    "    Dx_m[j] = filter(fl(xx), 7, 3)\n",
    "    \n",
    "    fl = sp.interp1d(x[indices], conc[i][indices], kind='linear')\n",
    "    Cx_m[j] = filter(fl(xx), 7, 3)\n",
    "\n",
    "    \n",
    "# root mean square errors\n",
    "\n",
    "rmse_Cx = np.zeros((len(Cx_m),len(xx)))\n",
    "rmse_Dx = np.zeros((len(Cx_m),len(xx)))\n",
    "\n",
    "for i in range(len(Cx_m)):\n",
    "\n",
    "    rmse_Cx[i] = np.sqrt((Cx_m[i] - Cx[i])**2)\n",
    "    rmse_Dx[i] = np.sqrt((Dx_m[i] - Dx[i])**2)\n",
    "    \n",
    "    \n",
    "# save outputs\n",
    "\n",
    "np.save('rmse_concentration.npy', [xx,rmse_Cx])\n",
    "np.save('rmse_bed.npy', [xx,rmse_Dx])\n",
    "np.save('analytical_concentration.npy',Cx)\n",
    "np.save('analytical_bed.npy',Dx)\n",
    "np.save('model_concentration.npy',Cx)\n",
    "np.save('model_bed.npy',Cx)"
   ]
  },
  {
   "cell_type": "code",
   "execution_count": 273,
   "metadata": {
    "collapsed": false
   },
   "outputs": [
    {
     "data": {
      "text/plain": [
       "[<matplotlib.lines.Line2D at 0x120249690>,\n",
       " <matplotlib.lines.Line2D at 0x120249890>]"
      ]
     },
     "execution_count": 273,
     "metadata": {},
     "output_type": "execute_result"
    },
    {
     "data": {
      "image/png": "[encoded data removed]",
      "text/plain": [
       "<matplotlib.figure.Figure at 0x11feb7990>"
      ]
     },
     "metadata": {},
     "output_type": "display_data"
    }
   ],
   "source": [
    "plt.plot(xx, Cx_m[-1],xx, Cx[-1])"
   ]
  },
  {
   "cell_type": "code",
   "execution_count": 274,
   "metadata": {
    "collapsed": false
   },
   "outputs": [
    {
     "data": {
      "text/plain": [
       "[<matplotlib.lines.Line2D at 0x1204c6350>,\n",
       " <matplotlib.lines.Line2D at 0x1204c6550>]"
      ]
     },
     "execution_count": 274,
     "metadata": {},
     "output_type": "execute_result"
    },
    {
     "data": {
      "image/png": "[encoded data removed]",
      "text/plain": [
       "<matplotlib.figure.Figure at 0x11ebae850>"
      ]
     },
     "metadata": {},
     "output_type": "display_data"
    }
   ],
   "source": [
    "plt.plot(xx, Dx_m[-1],xx, Dx[-1])"
   ]
  },
  {
   "cell_type": "code",
   "execution_count": 275,
   "metadata": {
    "collapsed": false
   },
   "outputs": [],
   "source": [
    "rmse_Cx = np.zeros((len(Cx_m),len(xx)))\n",
    "rmse_Dx = np.zeros((len(Cx_m),len(xx)))\n",
    "\n",
    "for i in range(len(Cx_m)):\n",
    "\n",
    "    rmse_Cx[i] = np.sqrt((Cx_m[i] - Cx[i])**2)\n",
    "    rmse_Dx[i] = np.sqrt((Dx_m[i] - Dx[i])**2)"
   ]
  },
  {
   "cell_type": "code",
   "execution_count": 281,
   "metadata": {
    "collapsed": false
   },
   "outputs": [
    {
     "data": {
      "text/plain": [
       "[<matplotlib.lines.Line2D at 0x121ffa650>,\n",
       " <matplotlib.lines.Line2D at 0x121ffa810>,\n",
       " <matplotlib.lines.Line2D at 0x121ffa950>,\n",
       " <matplotlib.lines.Line2D at 0x121ffaa90>,\n",
       " <matplotlib.lines.Line2D at 0x121ffabd0>,\n",
       " <matplotlib.lines.Line2D at 0x121ffad10>,\n",
       " <matplotlib.lines.Line2D at 0x121ffae50>,\n",
       " <matplotlib.lines.Line2D at 0x121f8ec90>,\n",
       " <matplotlib.lines.Line2D at 0x122040110>,\n",
       " <matplotlib.lines.Line2D at 0x122040250>,\n",
       " <matplotlib.lines.Line2D at 0x122040390>,\n",
       " <matplotlib.lines.Line2D at 0x1220404d0>,\n",
       " <matplotlib.lines.Line2D at 0x122040610>,\n",
       " <matplotlib.lines.Line2D at 0x122040750>,\n",
       " <matplotlib.lines.Line2D at 0x121ffaf90>,\n",
       " <matplotlib.lines.Line2D at 0x1220409d0>,\n",
       " <matplotlib.lines.Line2D at 0x122040b10>,\n",
       " <matplotlib.lines.Line2D at 0x122040c50>,\n",
       " <matplotlib.lines.Line2D at 0x122040d90>,\n",
       " <matplotlib.lines.Line2D at 0x122040ed0>,\n",
       " <matplotlib.lines.Line2D at 0x12204a050>,\n",
       " <matplotlib.lines.Line2D at 0x122040890>,\n",
       " <matplotlib.lines.Line2D at 0x12204a2d0>,\n",
       " <matplotlib.lines.Line2D at 0x12204a410>,\n",
       " <matplotlib.lines.Line2D at 0x12204a550>,\n",
       " <matplotlib.lines.Line2D at 0x12204a690>,\n",
       " <matplotlib.lines.Line2D at 0x12204a7d0>,\n",
       " <matplotlib.lines.Line2D at 0x12204a910>,\n",
       " <matplotlib.lines.Line2D at 0x12204a190>,\n",
       " <matplotlib.lines.Line2D at 0x12204ab90>,\n",
       " <matplotlib.lines.Line2D at 0x12204acd0>,\n",
       " <matplotlib.lines.Line2D at 0x12204ae10>,\n",
       " <matplotlib.lines.Line2D at 0x12204af50>,\n",
       " <matplotlib.lines.Line2D at 0x1220550d0>,\n",
       " <matplotlib.lines.Line2D at 0x122055210>,\n",
       " <matplotlib.lines.Line2D at 0x12204aa50>,\n",
       " <matplotlib.lines.Line2D at 0x122055490>,\n",
       " <matplotlib.lines.Line2D at 0x1220555d0>,\n",
       " <matplotlib.lines.Line2D at 0x122055710>,\n",
       " <matplotlib.lines.Line2D at 0x122055850>,\n",
       " <matplotlib.lines.Line2D at 0x122055990>,\n",
       " <matplotlib.lines.Line2D at 0x122055ad0>,\n",
       " <matplotlib.lines.Line2D at 0x122055350>,\n",
       " <matplotlib.lines.Line2D at 0x122055d50>,\n",
       " <matplotlib.lines.Line2D at 0x122055e90>,\n",
       " <matplotlib.lines.Line2D at 0x122055fd0>,\n",
       " <matplotlib.lines.Line2D at 0x12205f150>,\n",
       " <matplotlib.lines.Line2D at 0x12205f290>,\n",
       " <matplotlib.lines.Line2D at 0x12205f3d0>,\n",
       " <matplotlib.lines.Line2D at 0x122055c10>,\n",
       " <matplotlib.lines.Line2D at 0x12205f650>,\n",
       " <matplotlib.lines.Line2D at 0x12205f790>,\n",
       " <matplotlib.lines.Line2D at 0x12205f8d0>,\n",
       " <matplotlib.lines.Line2D at 0x12205fa10>,\n",
       " <matplotlib.lines.Line2D at 0x12205fb50>,\n",
       " <matplotlib.lines.Line2D at 0x12205fc90>,\n",
       " <matplotlib.lines.Line2D at 0x12205f510>,\n",
       " <matplotlib.lines.Line2D at 0x12205ff10>,\n",
       " <matplotlib.lines.Line2D at 0x122068090>]"
      ]
     },
     "execution_count": 281,
     "metadata": {},
     "output_type": "execute_result"
    },
    {
     "data": {
      "image/png": "[encoded data removed]",
      "text/plain": [
       "<matplotlib.figure.Figure at 0x121c5d550>"
      ]
     },
     "metadata": {},
     "output_type": "display_data"
    }
   ],
   "source": [
    "plt.plot(xx,rmse_Cx.T)"
   ]
  },
  {
   "cell_type": "code",
   "execution_count": 271,
   "metadata": {
    "collapsed": false
   },
   "outputs": [
    {
     "data": {
      "text/plain": [
       "array([[  5.84798536e-07,   4.21121788e-07,   2.61096424e-07, ...,\n",
       "          5.48599690e-06,   5.62135192e-06,   5.78469280e-06],\n",
       "       [  5.71980101e-07,   4.08503475e-07,   2.48532591e-07, ...,\n",
       "          5.50218895e-06,   5.63467167e-06,   5.78884598e-06],\n",
       "       [  5.75925747e-07,   4.12314555e-07,   2.52426972e-07, ...,\n",
       "          5.49420931e-06,   5.62689874e-06,   5.78030758e-06],\n",
       "       ..., \n",
       "       [  5.92015966e-07,   4.20876411e-07,   2.53234556e-07, ...,\n",
       "          5.73062871e-06,   5.87473626e-06,   6.04586686e-06],\n",
       "       [  5.94034064e-07,   4.22858837e-07,   2.55187862e-07, ...,\n",
       "          5.73351541e-06,   5.87688646e-06,   6.04446046e-06],\n",
       "       [  5.95322236e-07,   4.24589520e-07,   2.57065792e-07, ...,\n",
       "          5.73328248e-06,   5.87560007e-06,   6.04561929e-06]])"
      ]
     },
     "execution_count": 271,
     "metadata": {},
     "output_type": "execute_result"
    }
   ],
   "source": [
    "rmse"
   ]
  },
  {
   "cell_type": "code",
   "execution_count": null,
   "metadata": {
    "collapsed": true
   },
   "outputs": [],
   "source": []
  }
 ],
 "metadata": {
  "kernelspec": {
   "display_name": "Python 2",
   "language": "python",
   "name": "python2"
  },
  "language_info": {
   "codemirror_mode": {
    "name": "ipython",
    "version": 2
   },
   "file_extension": ".py",
   "mimetype": "text/x-python",
   "name": "python",
   "nbconvert_exporter": "python",
   "pygments_lexer": "ipython2",
   "version": "2.7.11"
  }
 },
 "nbformat": 4,
 "nbformat_minor": 0
}
