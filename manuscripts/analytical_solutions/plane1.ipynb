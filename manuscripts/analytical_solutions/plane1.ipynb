{
 "cells": [
  {
   "cell_type": "code",
   "execution_count": 5,
   "metadata": {
    "collapsed": false
   },
   "outputs": [
    {
     "name": "stdout",
     "output_type": "stream",
     "text": [
      "done\n"
     ]
    }
   ],
   "source": [
    "import sys\n",
    "oldsysstdout = sys.stdout\n",
    "\n",
    "from matplotlib import pyplot as plt\n",
    "%matplotlib inline\n",
    "from anuga.file import netcdf\n",
    "import matplotlib.tri as tri\n",
    "import scipy.interpolate as sp\n",
    "from glob import glob\n",
    "import numpy as np\n",
    "\n",
    "sys.stdout = oldsysstdout\n",
    "from scipy.signal import savgol_filter as filter\n",
    "\n",
    "\n",
    "\n",
    "swwFile = 'plane1.sww'\n",
    "\n",
    "\n",
    "\n",
    "\n",
    "fid = netcdf.NetCDFFile(swwFile)\n",
    "x = fid.variables['x'][:]\n",
    "y = fid.variables['y'][:]\n",
    "elev = fid.variables['elevation'][:]\n",
    "stage = fid.variables['stage'][:]\n",
    "conc = fid.variables['concentration'][:]\n",
    "\n",
    "depth = stage - elev\n",
    "\n",
    "xmom = fid.variables['xmomentum'][:]\n",
    "xvel = xmom / (depth + 0.000001)\n",
    "\n",
    "fid.close()\n",
    "\n",
    "\n",
    "\n",
    "indices = np.where(y == 1.)\n",
    "        \n",
    "triang = tri.Triangulation(x,y)\n",
    "\n",
    "        \n",
    "# variables        \n",
    "g = 9.8\n",
    "rho_w = 1000.\n",
    "tau_c = 0.126126\n",
    "phi = 0.3\n",
    "vs = 0.0138099680617\n",
    "Co = 0.0046       \n",
    "Ke = 0.2e-6/(tau_c**0.5)\n",
    "\n",
    "# d_star\n",
    "filenames = glob('plane1/dstar*')\n",
    "\n",
    "ds = np.load(filenames[0])\n",
    "xx = np.linspace(0.05,14,45)\n",
    "\n",
    "numbers = []\n",
    "for f in filenames[1:]:\n",
    "    a = f.replace('plane1/dstar','')\n",
    "    b = a.replace('.0.npy','')\n",
    "    numbers.append(int(b))\n",
    "    \n",
    "d_star = np.zeros((len(numbers),len(xx)))\n",
    "\n",
    "\n",
    "fl = sp.interp1d(x, elev[0], kind='linear')\n",
    "Dxo = filter(fl(xx), 7, 3)\n",
    "\n",
    "for i in range(1,len(filenames)):\n",
    "\n",
    "    ds = np.load(filenames[i])\n",
    "    fl = sp.interp1d(ds[0], ds[1], kind='linear')\n",
    "    d_star[i-1] = filter(fl(xx), 7, 3)\n",
    "    \n",
    "\n",
    "Cx = np.zeros((len(numbers),len(xx)))\n",
    "Dx = np.zeros((len(numbers),len(xx)))\n",
    "\n",
    "S = -np.diff(Dxo)/np.diff(xx)\n",
    "slope = np.hstack((S,S[-1]))\n",
    "\n",
    "for i in numbers:\n",
    "    \n",
    "    j = i/5 - 1\n",
    "\n",
    "    d_star_u = d_star[j]\n",
    "\n",
    "    \n",
    "    fl = sp.interp1d(x, depth[-1], kind='linear')\n",
    "    dxx = filter(fl(xx), 5, 3)\n",
    "    \n",
    "#     fl = sp.interp1d(x, xvel[-1], kind='linear')\n",
    "#     vxx = filter(fl(xx), 15, 3)\n",
    "    \n",
    "#     qxx = dxx * vxx\n",
    "\n",
    "    fl = sp.interp1d(x, xmom[-1], kind='linear')\n",
    "    qxx = filter(fl(xx), 7, 3)\n",
    "    \n",
    "    fl = sp.interp1d(x, elev[i], kind='linear')\n",
    "    Dxd = filter(fl(xx), 5, 3)\n",
    "    S = -np.diff(Dxd)/np.diff(xx)\n",
    "    slope = np.hstack((S,S[-1]))\n",
    "    \n",
    "\n",
    "    u_star = np.sqrt(g * slope * dxx)\n",
    "    tau = rho_w * u_star**2\n",
    "    dot_E = Ke * (tau - tau_c)\n",
    "\n",
    "#     fl = sp.interp1d(x, dot_E, kind='linear')\n",
    "#     Exx = fl(xx)\n",
    "    Exx = dot_E\n",
    "\n",
    "    Cx[j] = (Co - Exx/(d_star_u * vs)) * np.exp(- d_star_u * vs * xx / qxx) + Exx/(d_star_u * vs)    \n",
    "    Dx[j] = i / (1 - phi) * (d_star_u * vs * Co - Exx) * np.exp(- d_star_u * vs * xx / qxx) + Dxo\n",
    "    \n",
    "    S = -np.diff(Dx[j])/np.diff(xx)\n",
    "    slope = np.hstack((S,S[-1]))\n",
    "\n",
    "\n",
    "print 'done'\n",
    "\n",
    "\n",
    "\n",
    "# check data\n",
    "\n",
    "Cx_m = np.zeros((len(numbers),len(xx)))\n",
    "Dx_m = np.zeros((len(numbers),len(xx)))\n",
    "\n",
    "for i in numbers:\n",
    "    \n",
    "    j = i/5 - 1\n",
    "    \n",
    "    fl = sp.interp1d(x, elev[i], kind='linear')\n",
    "    Dx_m[j] = filter(fl(xx), 7, 3)\n",
    "    \n",
    "    fl = sp.interp1d(x, conc[i], kind='linear')\n",
    "    Cx_m[j] = filter(fl(xx), 7, 3)\n",
    "    "
   ]
  },
  {
   "cell_type": "code",
   "execution_count": 6,
   "metadata": {
    "collapsed": false
   },
   "outputs": [
    {
     "data": {
      "text/plain": [
       "[<matplotlib.lines.Line2D at 0x10f125850>,\n",
       " <matplotlib.lines.Line2D at 0x10f125a50>]"
      ]
     },
     "execution_count": 6,
     "metadata": {},
     "output_type": "execute_result"
    },
    {
     "data": {
      "image/png": "[encoded data removed]",
      "text/plain": [
       "<matplotlib.figure.Figure at 0x10f44d450>"
      ]
     },
     "metadata": {},
     "output_type": "display_data"
    }
   ],
   "source": [
    "plt.plot(xx, Cx_m[-1],xx, Cx[-1])"
   ]
  },
  {
   "cell_type": "code",
   "execution_count": null,
   "metadata": {
    "collapsed": true
   },
   "outputs": [],
   "source": []
  }
 ],
 "metadata": {
  "kernelspec": {
   "display_name": "Python 2",
   "language": "python",
   "name": "python2"
  },
  "language_info": {
   "codemirror_mode": {
    "name": "ipython",
    "version": 2
   },
   "file_extension": ".py",
   "mimetype": "text/x-python",
   "name": "python",
   "nbconvert_exporter": "python",
   "pygments_lexer": "ipython2",
   "version": "2.7.11"
  }
 },
 "nbformat": 4,
 "nbformat_minor": 0
}
