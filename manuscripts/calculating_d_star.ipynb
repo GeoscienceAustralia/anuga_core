{
 "cells": [
  {
   "cell_type": "raw",
   "metadata": {},
   "source": [
    "Cm = 0.034 * (1 - (ks/H)^0.06) * (u_star^2/(gRH)) * (Um / vs)\n",
    "ks = 2 * D_50\n",
    "Cm = mean transport concentration\n",
    "H = flow depth\n",
    "R = rho_s - rho_w / rho_w\n",
    "Um = mean flow velocity\n",
    "vs = settling velocity\n",
    "\n",
    "Equilibrium suspended sediment concentration at distance a = 0.05H from  bed\n",
    "\n",
    "Cae = ko * Cm / I\n",
    "ko = 1.13\n",
    "\n",
    "I = integral[0.05 - 1] ((1 - mu) / mu * mu_s / (1-mu_s))^(vs/(kappa *  u_star)) d_mu\n",
    "mu = z/H\n",
    "mu_s = 0.05\n"
   ]
  },
  {
   "cell_type": "code",
   "execution_count": 4,
   "metadata": {
    "collapsed": false
   },
   "outputs": [
    {
     "name": "stdout",
     "output_type": "stream",
     "text": [
      "0.367647058824\n"
     ]
    },
    {
     "data": {
      "text/plain": [
       "4.142780990228875"
      ]
     },
     "execution_count": 4,
     "metadata": {},
     "output_type": "execute_result"
    }
   ],
   "source": [
    "import numpy as np\n",
    "\n",
    "mu = np.arange(0.05,1.05,0.05)\n",
    "mu_s = 0.05\n",
    "\n",
    "vs = 0.03 # m/s\n",
    "u_star = 0.2 # m/s\n",
    "kappa = 0.408\n",
    "\n",
    "rouse = (vs / (kappa *  u_star))\n",
    "print rouse\n",
    "\n",
    "dI_dmu = (((1 - mu) / mu) * (mu_s / (1-mu_s)))**(vs / (kappa *  u_star))\n",
    "\n",
    "I = np.sum((dI_dmu[1:] + np.diff(dI_dmu)) * np.diff(mu))\n",
    "\n",
    "H = 1 # m\n",
    "D50 = 0.00025 # m\n",
    "ks = 2 * D50\n",
    "g = 9.81 # m/s**2\n",
    "R = 1.65\n",
    "Um = 1 # m/s\n",
    "\n",
    "Cm = 0.034 * (1 - (ks/H)**0.06) * (u_star**2 / (g * R * H)) * (Um / vs)\n",
    "\n",
    "ko = 1.13\n",
    "Cae = ko * Cm / I\n",
    "\n",
    "d_star = Cae / Cm\n",
    "\n",
    "d_star"
   ]
  },
  {
   "cell_type": "code",
   "execution_count": 3,
   "metadata": {
    "collapsed": false
   },
   "outputs": [
    {
     "data": {
      "text/plain": [
       "array([ 0.75979154,  0.64095671,  0.56391752,  0.50732028,  0.4625467 ,\n",
       "        0.4253145 ,  0.39319631,  0.36467879,  0.33874274,  0.31465127,\n",
       "        0.29183042,  0.26979246,  0.24807581,  0.22618186,  0.20348126,\n",
       "        0.17902402,  0.15102385,  0.11474665,  0.        ])"
      ]
     },
     "execution_count": 3,
     "metadata": {},
     "output_type": "execute_result"
    }
   ],
   "source": [
    "dI_dmu[1:]"
   ]
  },
  {
   "cell_type": "code",
   "execution_count": 31,
   "metadata": {
    "collapsed": false
   },
   "outputs": [
    {
     "data": {
      "text/plain": [
       "0.3676470588235294"
      ]
     },
     "execution_count": 31,
     "metadata": {},
     "output_type": "execute_result"
    }
   ],
   "source": [
    "(vs / (kappa *  u_star))"
   ]
  },
  {
   "cell_type": "code",
   "execution_count": 23,
   "metadata": {
    "collapsed": false
   },
   "outputs": [
    {
     "data": {
      "text/plain": [
       "[<matplotlib.lines.Line2D at 0x10a2ba450>]"
      ]
     },
     "execution_count": 23,
     "metadata": {},
     "output_type": "execute_result"
    },
    {
     "data": {
      "image/png": "[encoded data removed]",
      "text/plain": [
       "<matplotlib.figure.Figure at 0x10a07cdd0>"
      ]
     },
     "metadata": {},
     "output_type": "display_data"
    }
   ],
   "source": [
    "from matplotlib import pyplot as plt\n",
    "%matplotlib inline\n",
    "\n",
    "plt.plot(dI_dmu, mu)"
   ]
  },
  {
   "cell_type": "code",
   "execution_count": 9,
   "metadata": {
    "collapsed": false
   },
   "outputs": [
    {
     "name": "stdout",
     "output_type": "stream",
     "text": [
      "0.490196078431\n",
      "[ 0.          0.02631579  0.03508772  0.03947368  0.04210526  0.04385965\n",
      "  0.04511278  0.04605263  0.04678363  0.04736842  0.04784689  0.04824561\n",
      "  0.048583    0.04887218  0.04912281  0.04934211  0.0495356   0.0497076\n",
      "  0.0498615   0.05      ]\n",
      "[ 0.          0.16811106  0.19357121  0.20507632  0.21166794  0.21594625\n",
      "  0.21894899  0.22117324  0.22288725  0.22424866  0.22535618  0.2262748\n",
      "  0.22704908  0.22771057  0.22828225  0.22878125  0.22922061  0.22961041\n",
      "  0.2299586   0.2302715 ]\n",
      "[8.699514748210191, 9.392661928770137, 9.798127036878302, 10.085809109330082, 10.308952660644293, 10.491274217438248, 10.645424897265505, 10.778956289890028, 10.896739325546411, 11.002099841204238, 11.097410021008562, 11.184421397998193, 11.26446410567173, 11.33857207782545, 11.407564949312402, 11.472103470449973, 11.532728092266408, 11.589886506106357, 11.643953727376633, 11.695247021764184]\n",
      "-\n",
      "[ 0.          1.57901032  1.89663526  2.06836064  2.18207481  2.26555131\n",
      "  2.33080503  2.38401666  2.42874431  2.46720615  2.5008699   2.53075275\n",
      "  2.55758624  2.58191273  2.6041446   2.62460218  2.64353893  2.66115861\n",
      "  2.67762731  2.69308213]\n",
      "2.41853809842\n",
      "10.5311064475\n",
      "4.35432729151\n"
     ]
    }
   ],
   "source": [
    "# formulation in Davy and Lague (2009)\n",
    "\n",
    "from math import log\n",
    "import numpy as np\n",
    "\n",
    "vs = 0.03 # m/s\n",
    "u_star = 0.15 # m/s\n",
    "kappa = 0.408\n",
    "\n",
    "D50 = 0.00025 # m\n",
    "g = 9.81 # m/s**2\n",
    "R = 1.65\n",
    "\n",
    "z_o = D50/30\n",
    "\n",
    "Hs = np.arange(0.05,1,0.1)\n",
    "\n",
    "H = 1.\n",
    "\n",
    "a = 0.05 * H\n",
    "z = np.arange(a,H+a,a)\n",
    "\n",
    "du_dz = map(log, z / z_o)\n",
    "i_u = np.sum((du_dz[1:] + np.diff(du_dz)) * np.diff(z))\n",
    "\n",
    "d_d = (((z - a)/(H - a)) * (a / z))\n",
    "\n",
    "Z = (vs / (kappa *  u_star))\n",
    "\n",
    "d_dz = d_d**Z * du_dz\n",
    "i_ = np.sum((d_dz[1:] + np.diff(d_dz)) * np.diff(z))\n",
    "\n",
    "d_star = i_u / i_\n",
    "\n",
    "print Z\n",
    "print d_d\n",
    "print d_d**Z\n",
    "print du_dz\n",
    "print '-'\n",
    "print d_dz\n",
    "print i_\n",
    "print i_u\n",
    "print d_star\n"
   ]
  },
  {
   "cell_type": "code",
   "execution_count": 10,
   "metadata": {
    "collapsed": false
   },
   "outputs": [
    {
     "name": "stdout",
     "output_type": "stream",
     "text": [
      "[  0.00000000e+00   1.80253086e-14   2.20216430e-13   6.13587726e-13\n",
      "   1.07578766e-12   1.53449978e-12   1.96067947e-12   2.34592289e-12\n",
      "   2.69039921e-12   2.99746074e-12   3.27135225e-12   3.51627791e-12\n",
      "   3.73605574e-12   3.93402329e-12   4.11304658e-12   4.27556759e-12\n",
      "   4.42366168e-12   4.55909344e-12   4.68336642e-12   4.79776573e-12]\n"
     ]
    }
   ],
   "source": [
    "print d_d**8.7"
   ]
  },
  {
   "cell_type": "code",
   "execution_count": 18,
   "metadata": {
    "collapsed": false
   },
   "outputs": [
    {
     "data": {
      "text/plain": [
       "[<matplotlib.lines.Line2D at 0x1094383d0>]"
      ]
     },
     "execution_count": 18,
     "metadata": {},
     "output_type": "execute_result"
    },
    {
     "data": {
      "image/png": "[encoded data removed]",
      "text/plain": [
       "<matplotlib.figure.Figure at 0x10900f850>"
      ]
     },
     "metadata": {},
     "output_type": "display_data"
    }
   ],
   "source": [
    "from matplotlib import pyplot as plt\n",
    "%matplotlib inline\n",
    "\n",
    "plt.plot(u_star * np.array(du_dz)/ kappa, z)"
   ]
  },
  {
   "cell_type": "code",
   "execution_count": 39,
   "metadata": {
    "collapsed": false
   },
   "outputs": [
    {
     "data": {
      "text/plain": [
       "[<matplotlib.lines.Line2D at 0x10b85a490>]"
      ]
     },
     "execution_count": 39,
     "metadata": {},
     "output_type": "execute_result"
    },
    {
     "data": {
      "image/png": "[encoded data removed]",
      "text/plain": [
       "<matplotlib.figure.Figure at 0x10b37b150>"
      ]
     },
     "metadata": {},
     "output_type": "display_data"
    }
   ],
   "source": [
    "Z = (vs / (kappa *  u_star))\n",
    "d_d = (((z - a)/(H - a)) * (a / z))\n",
    "\n",
    "plt.plot(dI_dmu/np.sum(dI_dmu), z)"
   ]
  },
  {
   "cell_type": "code",
   "execution_count": 42,
   "metadata": {
    "collapsed": false
   },
   "outputs": [
    {
     "data": {
      "text/plain": [
       "array([ 0.13413326,  0.10191331,  0.08597361,  0.07564009,  0.06804852,\n",
       "        0.06204289,  0.05704882,  0.0527407 ,  0.04891555,  0.04543667,\n",
       "        0.0422052 ,  0.03914416,  0.03618814,  0.03327522,  0.03033851,\n",
       "        0.0272936 ,  0.02401307,  0.02025732,  0.01539134,  0.        ])"
      ]
     },
     "execution_count": 42,
     "metadata": {},
     "output_type": "execute_result"
    }
   ],
   "source": [
    "dI_dmu/np.sum(dI_dmu) * "
   ]
  },
  {
   "cell_type": "code",
   "execution_count": 26,
   "metadata": {
    "collapsed": false
   },
   "outputs": [
    {
     "data": {
      "text/plain": [
       "array([ 1.        ,  0.75979154,  0.64095671,  0.56391752,  0.50732028,\n",
       "        0.4625467 ,  0.4253145 ,  0.39319631,  0.36467879,  0.33874274,\n",
       "        0.31465127,  0.29183042,  0.26979246,  0.24807581,  0.22618186,\n",
       "        0.20348126,  0.17902402,  0.15102385,  0.11474665,  0.        ])"
      ]
     },
     "execution_count": 26,
     "metadata": {},
     "output_type": "execute_result"
    }
   ],
   "source": [
    "dI_dmu"
   ]
  },
  {
   "cell_type": "code",
   "execution_count": 34,
   "metadata": {
    "collapsed": false
   },
   "outputs": [],
   "source": [
    "vel = (u_star/kappa) * np.array(du_dz)"
   ]
  },
  {
   "cell_type": "code",
   "execution_count": 38,
   "metadata": {
    "collapsed": false
   },
   "outputs": [
    {
     "data": {
      "text/plain": [
       "0.25322993807816996"
      ]
     },
     "execution_count": 38,
     "metadata": {},
     "output_type": "execute_result"
    }
   ],
   "source": [
    "np.mean(vel * dI_dmu/np.sum(dI_dmu))"
   ]
  },
  {
   "cell_type": "code",
   "execution_count": 92,
   "metadata": {
    "collapsed": false
   },
   "outputs": [],
   "source": [
    "import numpy as np\n",
    "from matplotlib import pyplot as plt\n",
    "%matplotlib inline\n",
    "\n",
    "g = 9.81\n",
    "h = 1\n",
    "S = 0.001\n",
    "Cb = 0.001\n",
    "d = 0.01\n",
    "U = h**0.66 * S**0.5 / 0.03\n",
    "\n",
    "dS = np.arange(0.02,1.,0.05)\n",
    "\n",
    "ad = d**2 / dS**2\n",
    "\n",
    "Cd = ((g * h * S) - ((1 - ad) * Cb * U**2)) / (0.5 * ad * (h/d) * U**2)\n",
    "\n"
   ]
  },
  {
   "cell_type": "code",
   "execution_count": 93,
   "metadata": {
    "collapsed": false
   },
   "outputs": [
    {
     "data": {
      "text/plain": [
       "[<matplotlib.lines.Line2D at 0x10ef06f50>]"
      ]
     },
     "execution_count": 93,
     "metadata": {},
     "output_type": "execute_result"
    },
    {
     "data": {
      "image/png": "[encoded data removed]",
      "text/plain": [
       "<matplotlib.figure.Figure at 0x10e34ae90>"
      ]
     },
     "metadata": {},
     "output_type": "display_data"
    }
   ],
   "source": [
    "plt.semilogx(ad,Cd)"
   ]
  },
  {
   "cell_type": "code",
   "execution_count": 94,
   "metadata": {
    "collapsed": false
   },
   "outputs": [],
   "source": [
    "a = ((g * h * S) - ((1 - ad) * Cb * U**2))"
   ]
  },
  {
   "cell_type": "code",
   "execution_count": 95,
   "metadata": {
    "collapsed": false
   },
   "outputs": [
    {
     "data": {
      "text/plain": [
       "array([ 0.00897667,  0.00872156,  0.0087066 ,  0.00870273,  0.00870118,\n",
       "        0.00870041,  0.00869997,  0.0086997 ,  0.00869952,  0.00869939,\n",
       "        0.0086993 ,  0.00869923,  0.00869918,  0.00869914,  0.0086991 ,\n",
       "        0.00869908,  0.00869905,  0.00869904,  0.00869902,  0.00869901])"
      ]
     },
     "execution_count": 95,
     "metadata": {},
     "output_type": "execute_result"
    }
   ],
   "source": [
    "a"
   ]
  },
  {
   "cell_type": "code",
   "execution_count": 96,
   "metadata": {
    "collapsed": false
   },
   "outputs": [],
   "source": [
    "b = 0.5 * ad * (h/d) * U**2"
   ]
  },
  {
   "cell_type": "code",
   "execution_count": 97,
   "metadata": {
    "collapsed": false
   },
   "outputs": [
    {
     "data": {
      "text/plain": [
       "array([  1.38888889e+01,   1.13378685e+00,   3.85802469e-01,\n",
       "         1.92233756e-01,   1.14784206e-01,   7.62078951e-02,\n",
       "         5.42534722e-02,   4.05811217e-02,   3.14940791e-02,\n",
       "         2.51496404e-02,   2.05456936e-02,   1.70992784e-02,\n",
       "         1.44525379e-02,   1.23759313e-02,   1.07167353e-02,\n",
       "         9.37013924e-03,   8.26227774e-03,   7.33988051e-03,\n",
       "         6.56374711e-03,   5.90451223e-03])"
      ]
     },
     "execution_count": 97,
     "metadata": {},
     "output_type": "execute_result"
    }
   ],
   "source": [
    "b"
   ]
  },
  {
   "cell_type": "code",
   "execution_count": 98,
   "metadata": {
    "collapsed": false
   },
   "outputs": [
    {
     "data": {
      "text/plain": [
       "array([  6.46320000e-04,   7.69242000e-03,   2.25675200e-02,\n",
       "         4.52716200e-02,   7.58047200e-02,   1.14166820e-01,\n",
       "         1.60357920e-01,   2.14378020e-01,   2.76227120e-01,\n",
       "         3.45905220e-01,   4.23412320e-01,   5.08748420e-01,\n",
       "         6.01913520e-01,   7.02907620e-01,   8.11730720e-01,\n",
       "         9.28382820e-01,   1.05286392e+00,   1.18517402e+00,\n",
       "         1.32531312e+00,   1.47328122e+00])"
      ]
     },
     "execution_count": 98,
     "metadata": {},
     "output_type": "execute_result"
    }
   ],
   "source": [
    "a/b"
   ]
  },
  {
   "cell_type": "code",
   "execution_count": 99,
   "metadata": {
    "collapsed": false
   },
   "outputs": [
    {
     "data": {
      "text/plain": [
       "array([  2.50000000e-01,   2.04081633e-02,   6.94444444e-03,\n",
       "         3.46020761e-03,   2.06611570e-03,   1.37174211e-03,\n",
       "         9.76562500e-04,   7.30460190e-04,   5.66893424e-04,\n",
       "         4.52693526e-04,   3.69822485e-04,   3.07787011e-04,\n",
       "         2.60145682e-04,   2.22766763e-04,   1.92901235e-04,\n",
       "         1.68662506e-04,   1.48720999e-04,   1.32117849e-04,\n",
       "         1.18147448e-04,   1.06281220e-04])"
      ]
     },
     "execution_count": 99,
     "metadata": {},
     "output_type": "execute_result"
    }
   ],
   "source": [
    "ad"
   ]
  },
  {
   "cell_type": "code",
   "execution_count": 34,
   "metadata": {
    "collapsed": false
   },
   "outputs": [
    {
     "data": {
      "text/plain": [
       "0.00039000000000000005"
      ]
     },
     "execution_count": 34,
     "metadata": {},
     "output_type": "execute_result"
    }
   ],
   "source": [
    "import numpy as np\n",
    "from matplotlib import pyplot as plt\n",
    "%matplotlib inline\n",
    "\n",
    "d = 0.003\n",
    "h = 0.0001\n",
    "dS = np.arange(0.01,1,0.05)\n",
    "\n",
    "ad = np.arange(0.001,0.02,0.001)\n",
    "\n",
    "ad = 0.001\n",
    "\n",
    "mix_length = ((d - h) / 0.01) * ad + h\n",
    "\n",
    "mix_length"
   ]
  },
  {
   "cell_type": "code",
   "execution_count": 28,
   "metadata": {
    "collapsed": false
   },
   "outputs": [
    {
     "data": {
      "text/plain": [
       "array([ 0.001,  0.002,  0.003,  0.004,  0.005,  0.006,  0.007,  0.008,\n",
       "        0.009,  0.01 ,  0.011,  0.012,  0.013,  0.014,  0.015,  0.016,\n",
       "        0.017,  0.018,  0.019])"
      ]
     },
     "execution_count": 28,
     "metadata": {},
     "output_type": "execute_result"
    }
   ],
   "source": [
    "ad"
   ]
  },
  {
   "cell_type": "code",
   "execution_count": 29,
   "metadata": {
    "collapsed": false
   },
   "outputs": [
    {
     "data": {
      "text/plain": [
       "[<matplotlib.lines.Line2D at 0x109b3f890>]"
      ]
     },
     "execution_count": 29,
     "metadata": {},
     "output_type": "execute_result"
    },
    {
     "data": {
      "image/png": "[encoded data removed]",
      "text/plain": [
       "<matplotlib.figure.Figure at 0x109899150>"
      ]
     },
     "metadata": {},
     "output_type": "display_data"
    }
   ],
   "source": [
    "plt.plot(ad,mix_length)"
   ]
  },
  {
   "cell_type": "code",
   "execution_count": 16,
   "metadata": {
    "collapsed": false
   },
   "outputs": [
    {
     "data": {
      "text/plain": [
       "0.00316227766016838"
      ]
     },
     "execution_count": 16,
     "metadata": {},
     "output_type": "execute_result"
    }
   ],
   "source": [
    "from math import sqrt\n",
    "\n",
    "d = np.arange(0.001,0.1,0.001)\n",
    "h = np.arange(0,)"
   ]
  },
  {
   "cell_type": "code",
   "execution_count": 210,
   "metadata": {
    "collapsed": false
   },
   "outputs": [],
   "source": [
    "import numpy as np\n",
    "from math import log\n",
    "\n",
    "h = 0.15\n",
    "d = 0.0064\n",
    "ad = np.arange(1e-3,1e-1,0.001)\n",
    "U = 0.055\n",
    "Cb = 0.001\n",
    "g = 9.81\n",
    "dhdx = 1.33467 * ad**3 - 0.363454 * ad**2 + 0.0331003 * ad - 0.0000109427\n",
    "# Cd = (g * h * dhdx - (1-ad) * Cb * U**2) / (0.5 * ad * (h/d) * U**2)\n",
    "\n",
    "Cd = 56.11 * ad**2 - 15.28*ad + 1.38 - 0.0005465/ad\n",
    "Cd[ad < ad[Cd == Cd.max()]] = Cd.max()"
   ]
  },
  {
   "cell_type": "code",
   "execution_count": 211,
   "metadata": {
    "collapsed": false
   },
   "outputs": [],
   "source": [
    "from matplotlib import pyplot as plt\n",
    "%matplotlib inline"
   ]
  },
  {
   "cell_type": "code",
   "execution_count": 212,
   "metadata": {
    "collapsed": false
   },
   "outputs": [
    {
     "data": {
      "text/plain": [
       "[<matplotlib.lines.Line2D at 0x10e9af4d0>]"
      ]
     },
     "execution_count": 212,
     "metadata": {},
     "output_type": "execute_result"
    },
    {
     "data": {
      "image/png": "[encoded data removed]",
      "text/plain": [
       "<matplotlib.figure.Figure at 0x10caa9cd0>"
      ]
     },
     "metadata": {},
     "output_type": "display_data"
    }
   ],
   "source": [
    "plt.semilogx(ad, Cd, 'ko-')"
   ]
  },
  {
   "cell_type": "code",
   "execution_count": 213,
   "metadata": {
    "collapsed": false
   },
   "outputs": [
    {
     "data": {
      "text/plain": [
       "array([ 1.19925663,  1.19925663,  1.19925663,  1.19925663,  1.19925663,\n",
       "        1.19925663,  1.19771796,  1.19303854,  1.18630269,  1.178161  ,\n",
       "        1.16902749,  1.15917817,  1.14880413,  1.13804185,  1.12699142,\n",
       "        1.11572791,  1.10430873,  1.09277853,  1.08117255,  1.069519  ,\n",
       "        1.0578407 ,  1.04615633,  1.03448132,  1.02282853,  1.01120875,\n",
       "        0.99963113,  0.98810345,  0.97663238,  0.96522368,  0.95388233,\n",
       "        0.94261268,  0.93141851,  0.92030318,  0.90926963,  0.89832046,\n",
       "        0.887458  ,  0.87668432,  0.86600126,  0.85541049,  0.8449135 ,\n",
       "        0.83451164,  0.82420614,  0.81399809,  0.80388851,  0.79387831,\n",
       "        0.78396833,  0.77415933,  0.76445202,  0.75484705,  0.745345  ,\n",
       "        0.73594642,  0.72665182,  0.71746167,  0.70837639,  0.69939639,\n",
       "        0.69052203,  0.68175367,  0.67309163,  0.6645362 ,  0.65608767,\n",
       "        0.64774629,  0.63951232,  0.63138599,  0.6233675 ,  0.61545706,\n",
       "        0.60765486,  0.59996107,  0.59237588,  0.58489942,  0.57753186,\n",
       "        0.57027333,  0.56312396,  0.55608389,  0.54915322,  0.54233208,\n",
       "        0.53562057,  0.52901879,  0.52252683,  0.51614479,  0.50987275,\n",
       "        0.5037108 ,  0.49765901,  0.49171745,  0.48588621,  0.48016534,\n",
       "        0.47455491,  0.46905498,  0.46366561,  0.45838686,  0.45321878,\n",
       "        0.44816142,  0.44321482,  0.43837905,  0.43365413,  0.42904012,\n",
       "        0.42453705,  0.42014497,  0.41586391,  0.41169391])"
      ]
     },
     "execution_count": 213,
     "metadata": {},
     "output_type": "execute_result"
    }
   ],
   "source": [
    "Cd"
   ]
  },
  {
   "cell_type": "code",
   "execution_count": 42,
   "metadata": {
    "collapsed": false
   },
   "outputs": [
    {
     "data": {
      "text/plain": [
       "1.1600544793388434"
      ]
     },
     "execution_count": 42,
     "metadata": {},
     "output_type": "execute_result"
    }
   ],
   "source": [
    "ad = 1e-3\n",
    "dhdx = 0.00003\n",
    "\n",
    "Cd = (g * h * dhdx - (1-ad) * Cb * U**2) / (0.5 * ad * (h/d) * U**2)\n",
    "\n",
    "Cd"
   ]
  },
  {
   "cell_type": "code",
   "execution_count": 75,
   "metadata": {
    "collapsed": false
   },
   "outputs": [
    {
     "data": {
      "text/plain": [
       "0.4143328264462811"
      ]
     },
     "execution_count": 75,
     "metadata": {},
     "output_type": "execute_result"
    }
   ],
   "source": [
    "ad = 1e-1\n",
    "dhdx = 0.001\n",
    "\n",
    "Cd = (g * h * dhdx - (1-ad) * Cb * U**2) / (0.5 * ad * (h/d) * U**2)\n",
    "\n",
    "Cd"
   ]
  },
  {
   "cell_type": "code",
   "execution_count": 110,
   "metadata": {
    "collapsed": false
   },
   "outputs": [
    {
     "data": {
      "text/plain": [
       "1.1123242314049588"
      ]
     },
     "execution_count": 110,
     "metadata": {},
     "output_type": "execute_result"
    }
   ],
   "source": [
    "ad = 1e-2\n",
    "dhdx = 0.00027\n",
    "\n",
    "Cd = (g * h * dhdx - (1-ad) * Cb * U**2) / (0.5 * ad * (h/d) * U**2)\n",
    "\n",
    "Cd"
   ]
  },
  {
   "cell_type": "code",
   "execution_count": 122,
   "metadata": {
    "collapsed": false
   },
   "outputs": [
    {
     "data": {
      "text/plain": [
       "0.9658094839302114"
      ]
     },
     "execution_count": 122,
     "metadata": {},
     "output_type": "execute_result"
    }
   ],
   "source": [
    "ad = 3e-2\n",
    "dhdx = 0.0007\n",
    "\n",
    "Cd = (g * h * dhdx - (1-ad) * Cb * U**2) / (0.5 * ad * (h/d) * U**2)\n",
    "\n",
    "Cd"
   ]
  },
  {
   "cell_type": "code",
   "execution_count": 149,
   "metadata": {
    "collapsed": false
   },
   "outputs": [
    {
     "data": {
      "text/plain": [
       "0.5918674663518301"
      ]
     },
     "execution_count": 149,
     "metadata": {},
     "output_type": "execute_result"
    }
   ],
   "source": [
    "ad = 7e-2\n",
    "dhdx = 0.001\n",
    "\n",
    "Cd = (g * h * dhdx - (1-ad) * Cb * U**2) / (0.5 * ad * (h/d) * U**2)\n",
    "\n",
    "Cd"
   ]
  },
  {
   "cell_type": "code",
   "execution_count": 79,
   "metadata": {
    "collapsed": false
   },
   "outputs": [
    {
     "data": {
      "text/plain": [
       "-9.797979797979798e-06"
      ]
     },
     "execution_count": 79,
     "metadata": {},
     "output_type": "execute_result"
    }
   ],
   "source": [
    "log()"
   ]
  },
  {
   "cell_type": "code",
   "execution_count": 82,
   "metadata": {
    "collapsed": false
   },
   "outputs": [
    {
     "data": {
      "text/plain": [
       "99"
      ]
     },
     "execution_count": 82,
     "metadata": {},
     "output_type": "execute_result"
    }
   ],
   "source": [
    "len(ad)"
   ]
  },
  {
   "cell_type": "code",
   "execution_count": 128,
   "metadata": {
    "collapsed": true
   },
   "outputs": [],
   "source": [
    "dhdx = 0.000213157 * np.array(map(log,ad)) + 0.00142308"
   ]
  },
  {
   "cell_type": "code",
   "execution_count": 163,
   "metadata": {
    "collapsed": false
   },
   "outputs": [
    {
     "data": {
      "text/plain": [
       "array([  2.17954807e-05,   5.38147614e-05,   8.51231501e-05,\n",
       "         1.15728655e-04,   1.45639284e-04,   1.74863045e-04,\n",
       "         2.03407946e-04,   2.31281995e-04,   2.58493200e-04,\n",
       "         2.85049570e-04,   3.10959112e-04,   3.36229834e-04,\n",
       "         3.60869744e-04,   3.84886850e-04,   4.08289161e-04,\n",
       "         4.31084684e-04,   4.53281428e-04,   4.74887399e-04,\n",
       "         4.95910608e-04,   5.16359060e-04,   5.36240765e-04,\n",
       "         5.55563730e-04,   5.74335964e-04,   5.92565474e-04,\n",
       "         6.10260269e-04,   6.27428356e-04,   6.44077744e-04,\n",
       "         6.60216440e-04,   6.75852453e-04,   6.90993790e-04,\n",
       "         7.05648460e-04,   7.19824471e-04,   7.33529830e-04,\n",
       "         7.46772546e-04,   7.59560626e-04,   7.71902080e-04,\n",
       "         7.83804914e-04,   7.95277136e-04,   8.06326756e-04,\n",
       "         8.16961780e-04,   8.27190217e-04,   8.37020075e-04,\n",
       "         8.46459362e-04,   8.55516085e-04,   8.64198254e-04,\n",
       "         8.72513875e-04,   8.80470957e-04,   8.88077509e-04,\n",
       "         8.95341537e-04,   9.02271050e-04,   9.08874056e-04,\n",
       "         9.15158563e-04,   9.21132580e-04,   9.26804113e-04,\n",
       "         9.32181171e-04,   9.37271763e-04,   9.42083895e-04,\n",
       "         9.46625577e-04,   9.50904816e-04,   9.54929620e-04,\n",
       "         9.58707997e-04,   9.62247956e-04,   9.65557503e-04,\n",
       "         9.68644648e-04,   9.71517399e-04,   9.74183762e-04,\n",
       "         9.76651747e-04,   9.78929361e-04,   9.81024613e-04,\n",
       "         9.82945510e-04,   9.84700060e-04,   9.86296272e-04,\n",
       "         9.87742153e-04,   9.89045712e-04,   9.90214956e-04,\n",
       "         9.91257894e-04,   9.92182533e-04,   9.92996882e-04,\n",
       "         9.93708948e-04,   9.94326740e-04,   9.94858265e-04,\n",
       "         9.95311533e-04,   9.95694549e-04,   9.96015324e-04,\n",
       "         9.96281864e-04,   9.96502178e-04,   9.96684273e-04,\n",
       "         9.96836158e-04,   9.96965841e-04,   9.97081330e-04,\n",
       "         9.97190633e-04,   9.97301757e-04,   9.97422711e-04,\n",
       "         9.97561503e-04,   9.97726141e-04,   9.97924633e-04,\n",
       "         9.98164987e-04,   9.98455211e-04,   9.98803312e-04])"
      ]
     },
     "execution_count": 163,
     "metadata": {},
     "output_type": "execute_result"
    }
   ],
   "source": [
    "dhdx"
   ]
  },
  {
   "cell_type": "code",
   "execution_count": 204,
   "metadata": {
    "collapsed": false
   },
   "outputs": [
    {
     "data": {
      "text/plain": [
       "1.1992566266666664"
      ]
     },
     "execution_count": 204,
     "metadata": {},
     "output_type": "execute_result"
    }
   ],
   "source": [
    "Cd.max()"
   ]
  },
  {
   "cell_type": "code",
   "execution_count": 168,
   "metadata": {
    "collapsed": false
   },
   "outputs": [
    {
     "data": {
      "text/plain": [
       "array([ 0.006])"
      ]
     },
     "execution_count": 168,
     "metadata": {},
     "output_type": "execute_result"
    }
   ],
   "source": [
    "ad[Cd == Cd.max()]"
   ]
  },
  {
   "cell_type": "code",
   "execution_count": 176,
   "metadata": {
    "collapsed": false
   },
   "outputs": [
    {
     "data": {
      "text/plain": [
       "42.04285714285714"
      ]
     },
     "execution_count": 176,
     "metadata": {},
     "output_type": "execute_result"
    }
   ],
   "source": [
    "1.4715 / 0.035"
   ]
  },
  {
   "cell_type": "code",
   "execution_count": 177,
   "metadata": {
    "collapsed": true
   },
   "outputs": [],
   "source": [
    "a1 = 1.33467 * 42.04285714285714\n",
    "a2 = - 0.363454 * 42.04285714285714\n",
    "a3 = 0.0331003 * 42.04285714285714\n",
    "a4 = - 0.0000109427 * 42.04285714285714"
   ]
  },
  {
   "cell_type": "code",
   "execution_count": 178,
   "metadata": {
    "collapsed": false
   },
   "outputs": [
    {
     "data": {
      "text/plain": [
       "56.11334014285713"
      ]
     },
     "execution_count": 178,
     "metadata": {},
     "output_type": "execute_result"
    }
   ],
   "source": [
    "a1"
   ]
  },
  {
   "cell_type": "code",
   "execution_count": 179,
   "metadata": {
    "collapsed": false
   },
   "outputs": [
    {
     "data": {
      "text/plain": [
       "-15.280644599999999"
      ]
     },
     "execution_count": 179,
     "metadata": {},
     "output_type": "execute_result"
    }
   ],
   "source": [
    "a2"
   ]
  },
  {
   "cell_type": "code",
   "execution_count": 180,
   "metadata": {
    "collapsed": false
   },
   "outputs": [
    {
     "data": {
      "text/plain": [
       "1.391631184285714"
      ]
     },
     "execution_count": 180,
     "metadata": {},
     "output_type": "execute_result"
    }
   ],
   "source": [
    "a3"
   ]
  },
  {
   "cell_type": "code",
   "execution_count": 185,
   "metadata": {
    "collapsed": false
   },
   "outputs": [
    {
     "data": {
      "text/plain": [
       "-0.0005464923728571428"
      ]
     },
     "execution_count": 185,
     "metadata": {},
     "output_type": "execute_result"
    }
   ],
   "source": [
    "a4 - 8.643e-5"
   ]
  },
  {
   "cell_type": "code",
   "execution_count": 184,
   "metadata": {
    "collapsed": false
   },
   "outputs": [
    {
     "data": {
      "text/plain": [
       "-0.0004600623728571428"
      ]
     },
     "execution_count": 184,
     "metadata": {},
     "output_type": "execute_result"
    }
   ],
   "source": [
    "a4"
   ]
  },
  {
   "cell_type": "code",
   "execution_count": 186,
   "metadata": {
    "collapsed": false
   },
   "outputs": [
    {
     "data": {
      "text/plain": [
       "1.39208643"
      ]
     },
     "execution_count": 186,
     "metadata": {},
     "output_type": "execute_result"
    }
   ],
   "source": [
    "1.392 + 8.643e-5"
   ]
  },
  {
   "cell_type": "code",
   "execution_count": 56,
   "metadata": {
    "collapsed": false
   },
   "outputs": [
    {
     "data": {
      "text/plain": [
       "[<matplotlib.lines.Line2D at 0x10bab5590>]"
      ]
     },
     "execution_count": 56,
     "metadata": {},
     "output_type": "execute_result"
    },
    {
     "data": {
      "image/png": "[encoded data removed]",
      "text/plain": [
       "<matplotlib.figure.Figure at 0x10a8862d0>"
      ]
     },
     "metadata": {},
     "output_type": "display_data"
    }
   ],
   "source": [
    "import numpy as np\n",
    "from math import sqrt\n",
    "from matplotlib import pyplot as plt\n",
    "%matplotlib inline\n",
    "\n",
    "ad = np.arange(1e-4,1,1e-3)\n",
    "\n",
    "h = 1.5\n",
    "d = 0.064\n",
    "dS = np.array(map(sqrt,d**2 / ad))\n",
    "\n",
    "ad_h = d**2 / h**2\n",
    "ad = np.arange(0,2e-2,1e-4)\n",
    "\n",
    "ell = (d-h) / (0.01 - ad_h) * ad + (h - ((d-h) / (0.01 - ad_h) * ad_h))\n",
    "\n",
    "ell[ad <= ad_h] = h\n",
    "ell[ad > 0.01] = d\n",
    "\n",
    "plt.plot(ad, ell)"
   ]
  },
  {
   "cell_type": "code",
   "execution_count": 57,
   "metadata": {
    "collapsed": false
   },
   "outputs": [
    {
     "data": {
      "text/plain": [
       "-0.31959660943273194"
      ]
     },
     "execution_count": 57,
     "metadata": {},
     "output_type": "execute_result"
    }
   ],
   "source": [
    "((d-h) / (0.01 - ad_h) * ad_h)"
   ]
  },
  {
   "cell_type": "code",
   "execution_count": 50,
   "metadata": {
    "collapsed": false
   },
   "outputs": [
    {
     "data": {
      "text/plain": [
       "0.0018204444444444446"
      ]
     },
     "execution_count": 50,
     "metadata": {},
     "output_type": "execute_result"
    }
   ],
   "source": [
    "ad_h"
   ]
  },
  {
   "cell_type": "code",
   "execution_count": 29,
   "metadata": {
    "collapsed": false
   },
   "outputs": [
    {
     "data": {
      "text/plain": [
       "0.15"
      ]
     },
     "execution_count": 29,
     "metadata": {},
     "output_type": "execute_result"
    }
   ],
   "source": [
    "h"
   ]
  },
  {
   "cell_type": "code",
   "execution_count": 42,
   "metadata": {
    "collapsed": false
   },
   "outputs": [
    {
     "data": {
      "text/plain": [
       "array([ 0.15      ,  0.13244403,  0.11488807,  0.0973321 ,  0.07977614,\n",
       "        0.06222017,  0.0446642 ,  0.02710824,  0.00955227])"
      ]
     },
     "execution_count": 42,
     "metadata": {},
     "output_type": "execute_result"
    }
   ],
   "source": [
    "(d-h) / (0.01 - ad_h) * ad + (h - ((d-h) / (0.01 - ad_h) * ad_h))"
   ]
  },
  {
   "cell_type": "code",
   "execution_count": 64,
   "metadata": {
    "collapsed": false
   },
   "outputs": [
    {
     "data": {
      "text/plain": [
       "[<matplotlib.lines.Line2D at 0x10bf1ed90>]"
      ]
     },
     "execution_count": 64,
     "metadata": {},
     "output_type": "execute_result"
    },
    {
     "data": {
      "image/png": "[encoded data removed]",
      "text/plain": [
       "<matplotlib.figure.Figure at 0x10a9bb4d0>"
      ]
     },
     "metadata": {},
     "output_type": "display_data"
    }
   ],
   "source": [
    "ad = np.arange(1e-3,1e-1,0.001)\n",
    "\n",
    "Cd = (56.11 * ad**2 - 15.28 * ad + 1.3 - 0.0005465 / ad)\n",
    "\n",
    "plt.semilogx(ad, Cd)"
   ]
  },
  {
   "cell_type": "code",
   "execution_count": 65,
   "metadata": {
    "collapsed": false
   },
   "outputs": [
    {
     "data": {
      "text/plain": [
       "array([ 0.006])"
      ]
     },
     "execution_count": 65,
     "metadata": {},
     "output_type": "execute_result"
    }
   ],
   "source": [
    "ad[Cd == Cd.max()]"
   ]
  },
  {
   "cell_type": "code",
   "execution_count": 67,
   "metadata": {
    "collapsed": false
   },
   "outputs": [
    {
     "data": {
      "text/plain": [
       "0.8262364471909156"
      ]
     },
     "execution_count": 67,
     "metadata": {},
     "output_type": "execute_result"
    }
   ],
   "source": [
    "d/sqrt(0.006)"
   ]
  },
  {
   "cell_type": "code",
   "execution_count": 73,
   "metadata": {
    "collapsed": false
   },
   "outputs": [
    {
     "data": {
      "text/plain": [
       "0.10239999999999998"
      ]
     },
     "execution_count": 73,
     "metadata": {},
     "output_type": "execute_result"
    }
   ],
   "source": [
    "d**2/0.2**2"
   ]
  },
  {
   "cell_type": "code",
   "execution_count": null,
   "metadata": {
    "collapsed": true
   },
   "outputs": [],
   "source": []
  }
 ],
 "metadata": {
  "kernelspec": {
   "display_name": "Python 2",
   "language": "python",
   "name": "python2"
  },
  "language_info": {
   "codemirror_mode": {
    "name": "ipython",
    "version": 2
   },
   "file_extension": ".py",
   "mimetype": "text/x-python",
   "name": "python",
   "nbconvert_exporter": "python",
   "pygments_lexer": "ipython2",
   "version": "2.7.11"
  }
 },
 "nbformat": 4,
 "nbformat_minor": 0
}
