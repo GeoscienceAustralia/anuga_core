{
 "cells": [
  {
   "cell_type": "code",
   "execution_count": 36,
   "metadata": {
    "collapsed": false
   },
   "outputs": [
    {
     "name": "stderr",
     "output_type": "stream",
     "text": [
      "/anaconda/lib/python2.7/site-packages/ipykernel/__main__.py:14: RuntimeWarning: divide by zero encountered in divide\n"
     ]
    },
    {
     "data": {
      "text/plain": [
       "[<matplotlib.lines.Line2D at 0x107502950>]"
      ]
     },
     "execution_count": 36,
     "metadata": {},
     "output_type": "execute_result"
    },
    {
     "data": {
      "image/png": "[encoded data removed]",
      "text/plain": [
       "<matplotlib.figure.Figure at 0x107502f90>"
      ]
     },
     "metadata": {},
     "output_type": "display_data"
    }
   ],
   "source": [
    "from math import log\n",
    "import numpy as np\n",
    "\n",
    "ks = 1.09 # cm/hr\n",
    "theta_i = 0.25\n",
    "theta_s = 0.5\n",
    "\n",
    "ho = 100 # stage\n",
    "\n",
    "# assume the wetting front is 5 cm\n",
    "Zf = np.arange(0,100)\n",
    "hf = 11.01\n",
    "\n",
    "f = -ks * (hf - ho - Zf) / Zf\n",
    "\n",
    "t = ((theta_s - theta_i) / ks ) * (Zf  + (hf - ho) * np.log(1 + (Zf / (ho - hf))))\n",
    "\n",
    "plt.plot(t,Zf)\n",
    "plt.plot(t,f)"
   ]
  },
  {
   "cell_type": "code",
   "execution_count": 23,
   "metadata": {
    "collapsed": false
   },
   "outputs": [
    {
     "data": {
      "text/plain": [
       "[<matplotlib.lines.Line2D at 0x106c45450>]"
      ]
     },
     "execution_count": 23,
     "metadata": {},
     "output_type": "execute_result"
    },
    {
     "data": {
      "image/png": "[encoded data removed]",
      "text/plain": [
       "<matplotlib.figure.Figure at 0x103d541d0>"
      ]
     },
     "metadata": {},
     "output_type": "display_data"
    }
   ],
   "source": [
    "import matplotlib.pyplot as plt\n",
    "%matplotlib inline\n",
    "\n",
    "porosity = 0.453\n",
    "ks = 1.09\n",
    "Sf = 11.01\n",
    "t = 10#np.arange(0.01,20,0.5)\n",
    "\n",
    "Lf = np.sqrt(2 * ks * Sf * t / porosity)\n",
    "f = ks * (Sf + Lf) / Lf\n",
    "\n",
    "plt.plot(t,Lf)\n",
    "plt.plot(t,f)"
   ]
  },
  {
   "cell_type": "code",
   "execution_count": 26,
   "metadata": {
    "collapsed": false
   },
   "outputs": [
    {
     "data": {
      "text/plain": [
       "23.018276642760402"
      ]
     },
     "execution_count": 26,
     "metadata": {},
     "output_type": "execute_result"
    }
   ],
   "source": [
    "S = np.sqrt(2 * ks * (theta_s - theta_i)* (Kr * psi + hs )\n",
    "I = 0.5 * S * (1/np.sqrt(tw)) + Ks"
   ]
  },
  {
   "cell_type": "code",
   "execution_count": 34,
   "metadata": {
    "collapsed": false
   },
   "outputs": [
    {
     "data": {
      "text/plain": [
       "array([ 0,  1,  2,  3,  4,  5,  6,  7,  8,  9, 10, 11, 12, 13, 14, 15, 16,\n",
       "       17, 18, 19, 20, 21, 22, 23, 24, 25, 26, 27, 28, 29, 30, 31, 32, 33,\n",
       "       34, 35, 36, 37, 38, 39, 40, 41, 42, 43, 44, 45, 46, 47, 48, 49, 50,\n",
       "       51, 52, 53, 54, 55, 56, 57, 58, 59, 60, 61, 62, 63, 64, 65, 66, 67,\n",
       "       68, 69, 70, 71, 72, 73, 74, 75, 76, 77, 78, 79, 80, 81, 82, 83, 84,\n",
       "       85, 86, 87, 88, 89, 90, 91, 92, 93, 94, 95, 96, 97, 98, 99])"
      ]
     },
     "execution_count": 34,
     "metadata": {},
     "output_type": "execute_result"
    }
   ],
   "source": [
    "Zf"
   ]
  },
  {
   "cell_type": "code",
   "execution_count": 35,
   "metadata": {
    "collapsed": false
   },
   "outputs": [
    {
     "data": {
      "text/plain": [
       "array([         inf,  98.0891    ,  49.58955   ,  33.42303333,\n",
       "        25.339775  ,  20.48982   ,  17.25651667,  14.94701429,\n",
       "        13.2148875 ,  11.86767778,  10.78991   ,   9.9081    ,\n",
       "         9.17325833,   8.55146923,   8.01850714,   7.55660667,\n",
       "         7.15244375,   6.79582941,   6.47883889,   6.19521579,\n",
       "         5.939955  ,   5.70900476,   5.49905   ,   5.30735217,\n",
       "         5.13162917,   4.969964  ,   4.82073462,   4.68255926,\n",
       "         4.55425357,   4.43479655,   4.32330333,   4.21900323,\n",
       "         4.12122187,   4.02936667,   3.94291471,   3.86140286,\n",
       "         3.78441944,   3.7115973 ,   3.64260789,   3.57715641,\n",
       "         3.5149775 ,   3.45583171,   3.39950238,   3.34579302,\n",
       "         3.294525  ,   3.24553556,   3.19867609,   3.15381064,\n",
       "         3.11081458,   3.06957347,   3.029982  ,   2.99194314,\n",
       "         2.95536731,   2.9201717 ,   2.88627963,   2.85362   ,\n",
       "         2.82212679,   2.7917386 ,   2.76239828,   2.73405254,\n",
       "         2.70665167,   2.68014918,   2.65450161,   2.62966825,\n",
       "         2.60561094,   2.58229385,   2.55968333,   2.53774776,\n",
       "         2.51645735,   2.49578406,   2.47570143,   2.45618451,\n",
       "         2.43720972,   2.41875479,   2.40079865,   2.38332133,\n",
       "         2.36630395,   2.34972857,   2.33357821,   2.31783671,\n",
       "         2.30248875,   2.28751975,   2.27291585,   2.25866386,\n",
       "         2.24475119,   2.23116588,   2.21789651,   2.20493218,\n",
       "         2.1922625 ,   2.17987753,   2.16776778,   2.15592418,\n",
       "         2.14433804,   2.13300108,   2.12190532,   2.11104316,\n",
       "         2.10040729,   2.08999072,   2.07978673,   2.06978889])"
      ]
     },
     "execution_count": 35,
     "metadata": {},
     "output_type": "execute_result"
    }
   ],
   "source": [
    "f"
   ]
  },
  {
   "cell_type": "code",
   "execution_count": 37,
   "metadata": {
    "collapsed": false
   },
   "outputs": [
    {
     "data": {
      "text/plain": [
       "4.36"
      ]
     },
     "execution_count": 37,
     "metadata": {},
     "output_type": "execute_result"
    }
   ],
   "source": [
    "ks / (theta_s - theta_i)"
   ]
  },
  {
   "cell_type": "code",
   "execution_count": 41,
   "metadata": {
    "collapsed": false
   },
   "outputs": [
    {
     "name": "stderr",
     "output_type": "stream",
     "text": [
      "/anaconda/lib/python2.7/site-packages/ipykernel/__main__.py:1: RuntimeWarning: invalid value encountered in multiply\n",
      "  if __name__ == '__main__':\n"
     ]
    },
    {
     "data": {
      "text/plain": [
       "array([        nan,  0.505546  ,  0.50916891,  0.51273275,  0.51623904,\n",
       "        0.51968924,  0.52308478,  0.52642702,  0.52971729,  0.53295687,\n",
       "        0.53614698,  0.53928883,  0.54238357,  0.54543231,  0.54843613,\n",
       "        0.55139608,  0.55431317,  0.55718837,  0.56002265,  0.5628169 ,\n",
       "        0.56557204,  0.56828891,  0.57096836,  0.5736112 ,  0.57621822,\n",
       "        0.57879019,  0.58132783,  0.58383189,  0.58630305,  0.588742  ,\n",
       "        0.59114939,  0.59352587,  0.59587207,  0.59818859,  0.60047602,\n",
       "        0.60273494,  0.6049659 ,  0.60716945,  0.60934612,  0.61149642,\n",
       "        0.61362085,  0.61571991,  0.61779407,  0.61984379,  0.62186952,\n",
       "        0.62387171,  0.62585079,  0.62780717,  0.62974126,  0.63165346,\n",
       "        0.63354416,  0.63541373,  0.63726256,  0.63909099,  0.64089939,\n",
       "        0.64268809,  0.64445743,  0.64620774,  0.64793934,  0.64965255,\n",
       "        0.65134766,  0.65302499,  0.65468481,  0.65632742,  0.6579531 ,\n",
       "        0.65956212,  0.66115474,  0.66273123,  0.66429184,  0.66583683,\n",
       "        0.66736643,  0.66888089,  0.67038045,  0.67186532,  0.67333574,\n",
       "        0.67479193,  0.67623409,  0.67766245,  0.67907721,  0.68047857,\n",
       "        0.68186672,  0.68324187,  0.6846042 ,  0.6859539 ,  0.68729116,\n",
       "        0.68861614,  0.68992903,  0.69123   ,  0.69251922,  0.69379686,\n",
       "        0.69506307,  0.69631801,  0.69756185,  0.69879473,  0.70001681,\n",
       "        0.70122823,  0.70242914,  0.70361968,  0.70479999])"
      ]
     },
     "execution_count": 41,
     "metadata": {},
     "output_type": "execute_result"
    }
   ],
   "source": [
    "np.diff(t*f/ (theta_s - theta_i))"
   ]
  },
  {
   "cell_type": "code",
   "execution_count": null,
   "metadata": {
    "collapsed": true
   },
   "outputs": [],
   "source": []
  }
 ],
 "metadata": {
  "kernelspec": {
   "display_name": "Python 2",
   "language": "python",
   "name": "python2"
  },
  "language_info": {
   "codemirror_mode": {
    "name": "ipython",
    "version": 2
   },
   "file_extension": ".py",
   "mimetype": "text/x-python",
   "name": "python",
   "nbconvert_exporter": "python",
   "pygments_lexer": "ipython2",
   "version": "2.7.11"
  }
 },
 "nbformat": 4,
 "nbformat_minor": 0
}
